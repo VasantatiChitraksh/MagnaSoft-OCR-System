{
 "cells": [
  {
   "cell_type": "code",
   "execution_count": 6,
   "id": "ee64224e-c094-49e5-9ab2-3ce660e7fac4",
   "metadata": {},
   "outputs": [
    {
     "name": "stderr",
     "output_type": "stream",
     "text": [
      "Using CPU. Note: This module is much faster with a GPU.\n"
     ]
    },
    {
     "name": "stdout",
     "output_type": "stream",
     "text": [
      "Results saved to extracted_numbers2.csv\n"
     ]
    }
   ],
   "source": [
    "import easyocr\n",
    "import cv2\n",
    "import re\n",
    "import csv\n",
    "\n",
    "# Initialize EasyOCR Reader\n",
    "reader = easyocr.Reader(['en'], gpu=False)\n",
    "\n",
    "# Preprocess the image (Optional: Blur and Grayscale)\n",
    "def preprocess_image(image_path):\n",
    "    img = cv2.imread(image_path)\n",
    "    img = cv2.GaussianBlur(img, (5, 5), 0)  # Apply blur\n",
    "    gray = cv2.cvtColor(img, cv2.COLOR_BGR2GRAY)  # Convert to grayscale\n",
    "    return gray\n",
    "\n",
    "# Extract handwritten numbers (including decimals) using EasyOCR\n",
    "def extract_numbers(image_path):\n",
    "    img = preprocess_image(image_path)\n",
    "    results = reader.readtext(img, detail=0)  # Extract text without bounding box details\n",
    "\n",
    "    # Use regex to filter numbers (including decimals)\n",
    "    numbers_only = re.findall(r'\\d+\\.?\\d*', ''.join(results))\n",
    "    return numbers_only\n",
    "\n",
    "# Save the results to a CSV file\n",
    "def save_to_csv(output_file, results):\n",
    "    with open(output_file, mode='w', newline='') as file:\n",
    "        writer = csv.writer(file)\n",
    "        writer.writerow(['Image Name', 'Extracted Numbers'])  # Header row\n",
    "\n",
    "        # Write image name and extracted numbers\n",
    "        for image_name, numbers in results.items():\n",
    "            writer.writerow([image_name, ', '.join(numbers)])  # Join numbers with commas\n",
    "\n",
    "# Main function\n",
    "def process_images(image_files, output_file):\n",
    "    results = {}\n",
    "\n",
    "    # Iterate through each specified image file\n",
    "    for image_file in image_files:\n",
    "        extracted_numbers = extract_numbers(image_file)\n",
    "        results[image_file.split('/')[-1]] = extracted_numbers  # Save file name and numbers\n",
    "\n",
    "    # Save results to CSV\n",
    "    save_to_csv(output_file, results)\n",
    "    print(f\"Results saved to {output_file}\")\n",
    "\n",
    "# File paths\n",
    "image_files = [\n",
    "    'VW_DTN01_A_00002_101000000000000000002051033000000.front.JPG',\n",
    "    'VW_DTN01_L_00007_101000000000000000002038853600000.front.JPG'\n",
    "]\n",
    "output_csv = 'extracted_numbers2.csv'  # Output CSV file\n",
    "\n",
    "# Run the processing\n",
    "process_images(image_files, output_csv)\n"
   ]
  },
  {
   "cell_type": "code",
   "execution_count": null,
   "id": "0f65963e-dbfc-4068-a930-94c1bf3252c9",
   "metadata": {},
   "outputs": [],
   "source": []
  }
 ],
 "metadata": {
  "kernelspec": {
   "display_name": "Python 3 (ipykernel)",
   "language": "python",
   "name": "python3"
  },
  "language_info": {
   "codemirror_mode": {
    "name": "ipython",
    "version": 3
   },
   "file_extension": ".py",
   "mimetype": "text/x-python",
   "name": "python",
   "nbconvert_exporter": "python",
   "pygments_lexer": "ipython3",
   "version": "3.12.1"
  }
 },
 "nbformat": 4,
 "nbformat_minor": 5
}
