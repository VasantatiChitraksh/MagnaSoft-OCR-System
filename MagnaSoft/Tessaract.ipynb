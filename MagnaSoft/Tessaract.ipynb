{
 "cells": [
  {
   "cell_type": "code",
   "execution_count": 1,
   "id": "30b642bd-9a2a-4634-ba58-fbb2998fdf4c",
   "metadata": {},
   "outputs": [],
   "source": [
    "import pytesseract\n",
    "\n",
    "# Example path for Windows\n",
    "pytesseract.pytesseract.tesseract_cmd = r'C:\\Program Files\\Tesseract-OCR\\tesseract.exe'\n"
   ]
  },
  {
   "cell_type": "code",
   "execution_count": 3,
   "id": "7a629222-b487-4060-9c34-4c83e4c2bba2",
   "metadata": {},
   "outputs": [
    {
     "name": "stdout",
     "output_type": "stream",
     "text": [
      "Results saved to extracted_numbers.csv\n"
     ]
    }
   ],
   "source": [
    "import cv2\n",
    "import pytesseract\n",
    "import re\n",
    "import os\n",
    "import csv\n",
    "\n",
    "# Preprocessing function\n",
    "def preprocess_image(image_path):\n",
    "    img = cv2.imread(image_path)\n",
    "    if img is None:\n",
    "        raise FileNotFoundError(f\"Could not read the image at: {image_path}\")\n",
    "    \n",
    "    # Apply Gaussian blur\n",
    "    img = cv2.GaussianBlur(img, (5, 5), 0)\n",
    "    \n",
    "    # Convert to grayscale\n",
    "    gray = cv2.cvtColor(img, cv2.COLOR_BGR2GRAY)\n",
    "    \n",
    "    # Optional: Apply thresholding for better OCR results\n",
    "    _, binary = cv2.threshold(gray, 150, 255, cv2.THRESH_BINARY)\n",
    "    \n",
    "    return binary\n",
    "\n",
    "# Extract numbers using Tesseract\n",
    "def extract_numbers(image_path):\n",
    "    # Preprocess the image\n",
    "    img = preprocess_image(image_path)\n",
    "    \n",
    "    # Use Tesseract to extract text\n",
    "    text = pytesseract.image_to_string(img)\n",
    "    \n",
    "    # Use regex to filter numbers (including decimals)\n",
    "    numbers = re.findall(r'\\d+\\.?\\d*', text)\n",
    "    \n",
    "    return numbers\n",
    "\n",
    "# Save results to CSV\n",
    "def save_to_csv(output_file, results):\n",
    "    with open(output_file, 'w', newline='') as csvfile:\n",
    "        writer = csv.writer(csvfile)\n",
    "        writer.writerow(['Image File', 'Extracted Numbers'])\n",
    "        for filename, numbers in results.items():\n",
    "            writer.writerow([filename, ', '.join(numbers)])\n",
    "\n",
    "# Main processing function\n",
    "def process_images(image_files, output_file):\n",
    "    results = {}\n",
    "\n",
    "    for image_file in image_files:\n",
    "        try:\n",
    "            extracted_numbers = extract_numbers(image_file)\n",
    "            results[os.path.basename(image_file)] = extracted_numbers\n",
    "        except FileNotFoundError as e:\n",
    "            print(f\"File error: {e}\")\n",
    "        except Exception as e:\n",
    "            print(f\"Error processing {image_file}: {e}\")\n",
    "    \n",
    "    save_to_csv(output_file, results)\n",
    "    print(f\"Results saved to {output_file}\")\n",
    "\n",
    "# List of image paths (add your images here)\n",
    "image_files = [\n",
    "    'VW_DTN01_L_00007_101000000000000000002038853600000.front.JPG',\n",
    "    'VW_DTN01_A_00002_101000000000000000002051033000000.front.JPG',\n",
    "]\n",
    "\n",
    "# Output CSV file\n",
    "output_csv = 'extracted_numbers.csv'\n",
    "\n",
    "# Run the processing\n",
    "process_images(image_files, output_csv)\n"
   ]
  },
  {
   "cell_type": "code",
   "execution_count": null,
   "id": "e352c369-9267-4fef-a887-110637e1fecb",
   "metadata": {},
   "outputs": [],
   "source": []
  }
 ],
 "metadata": {
  "kernelspec": {
   "display_name": "Python 3 (ipykernel)",
   "language": "python",
   "name": "python3"
  },
  "language_info": {
   "codemirror_mode": {
    "name": "ipython",
    "version": 3
   },
   "file_extension": ".py",
   "mimetype": "text/x-python",
   "name": "python",
   "nbconvert_exporter": "python",
   "pygments_lexer": "ipython3",
   "version": "3.12.1"
  }
 },
 "nbformat": 4,
 "nbformat_minor": 5
}
